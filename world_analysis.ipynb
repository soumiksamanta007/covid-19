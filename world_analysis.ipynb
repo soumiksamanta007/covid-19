{
 "cells": [
  {
   "cell_type": "code",
   "execution_count": 2,
   "metadata": {},
   "outputs": [],
   "source": [
    "import os\n",
    "import glob\n",
    "import pandas as pd\n",
    "import matplotlib.pyplot as plt\n",
    "import seaborn as sns\n",
    "import numpy as np\n",
    "from statsmodels.tsa.arima_model import ARIMA\n",
    "from statsmodels.tsa.statespace.sarimax import SARIMAX\n",
    "import warnings\n",
    "from datetime import datetime, timedelta, date\n",
    "from ipywidgets import interact\n",
    "import itertools\n",
    "from tabulate import tabulate\n",
    "\n",
    "import requests\n",
    "from bs4 import BeautifulSoup\n",
    "import geopandas as gpd\n",
    "from prettytable import PrettyTable"
   ]
  },
  {
   "cell_type": "code",
   "execution_count": 19,
   "metadata": {},
   "outputs": [
    {
     "data": {
      "text/html": [
       "<div>\n",
       "<style scoped>\n",
       "    .dataframe tbody tr th:only-of-type {\n",
       "        vertical-align: middle;\n",
       "    }\n",
       "\n",
       "    .dataframe tbody tr th {\n",
       "        vertical-align: top;\n",
       "    }\n",
       "\n",
       "    .dataframe thead th {\n",
       "        text-align: right;\n",
       "    }\n",
       "</style>\n",
       "<table border=\"1\" class=\"dataframe\">\n",
       "  <thead>\n",
       "    <tr style=\"text-align: right;\">\n",
       "      <th></th>\n",
       "      <th>Country</th>\n",
       "      <th>Total Cases</th>\n",
       "      <th>New Cases</th>\n",
       "      <th>Total deaths</th>\n",
       "      <th>New Deaths</th>\n",
       "      <th>Total Recovered</th>\n",
       "      <th>Active Cases</th>\n",
       "      <th>Serious/Critical</th>\n",
       "      <th>Tot. Cases/1M pop</th>\n",
       "      <th>Deaths/1M pop</th>\n",
       "      <th>Total Tests</th>\n",
       "      <th>Tests/1M pop</th>\n",
       "    </tr>\n",
       "  </thead>\n",
       "  <tbody>\n",
       "  </tbody>\n",
       "</table>\n",
       "</div>"
      ],
      "text/plain": [
       "Empty DataFrame\n",
       "Columns: [Country, Total Cases, New Cases, Total deaths, New Deaths, Total Recovered, Active Cases, Serious/Critical, Tot. Cases/1M pop, Deaths/1M pop, Total Tests, Tests/1M pop]\n",
       "Index: []"
      ]
     },
     "execution_count": 19,
     "metadata": {},
     "output_type": "execute_result"
    }
   ],
   "source": [
    "url = 'https://www.worldometers.info/coronavirus/#countries'\n",
    "\n",
    "# make a GET request to fetch the raw HTML content\n",
    "web_content = requests.get(url).content\n",
    "\n",
    "# parse the html content\n",
    "soup = BeautifulSoup(web_content, \"html.parser\")\n",
    "\n",
    "# remove any newlines and extra spaces from left and right\n",
    "extract_contents = lambda row: [x.text.replace('\\n', '') for x in row]\n",
    "\n",
    "# find all table rows and data cells within\n",
    "stats = [] \n",
    "all_rows = soup.find_all('tr')\n",
    "\n",
    "for row in all_rows:\n",
    "    stat = extract_contents(row.find_all('td'))   \n",
    "# the data that we require is a list of length 12\n",
    "    if len(stat) == 12:\n",
    "        stats.append(stat)\n",
    "        \n",
    "#now convert the data into a pandas dataframe for further processing\n",
    "new_cols = [\"Country\", \"Total Cases\", \"New Cases\", \"Total deaths\", \"New Deaths\", \"Total Recovered\", \"Active Cases\",\n",
    "           \"Serious/Critical\", \"Tot. Cases/1M pop\", \"Deaths/1M pop\", \"Total Tests\", \"Tests/1M pop\"]\n",
    "country_data = pd.DataFrame(data = stats, columns = new_cols)\n",
    "#country_data['Date'] = date.today()\n",
    "country_data"
   ]
  },
  {
   "cell_type": "code",
   "execution_count": 7,
   "metadata": {},
   "outputs": [],
   "source": [
    "filename = \"data_\"+str(date.today())+\".csv\"\n",
    "country_data.to_csv(os.path.join('data_world',filename))"
   ]
  },
  {
   "cell_type": "code",
   "execution_count": null,
   "metadata": {},
   "outputs": [],
   "source": []
  },
  {
   "cell_type": "code",
   "execution_count": 6,
   "metadata": {},
   "outputs": [
    {
     "name": "stdout",
     "output_type": "stream",
     "text": [
      "['data_world/data_2020-04-06.csv', 'data_world/data_2020-04-08.csv', 'data_world/data_2020-04-07.csv', 'data_world/data_2020-04-10.csv', 'data_world/data_2020-04-09.csv']\n"
     ]
    }
   ],
   "source": [
    "csv_files = glob.glob(os.path.join('data_world','data_*.csv'))\n",
    "#print csv_files which is a list of filenames\n",
    "print(csv_files)\n",
    " \n",
    "#intialize empty list that we will append dataframes to\n",
    "list_data = []\n",
    " \n",
    " \n",
    "#write a for loop that will go through each of the file name through globbing and the end result will be the list of dataframes\n",
    "for filename in csv_files:\n",
    "    data = pd.read_csv(filename)\n",
    "    list_data.append(data)\n",
    " \n",
    "#print list_data which is a list of dataframes\n",
    "list_data\n",
    " \n",
    "cdf = pd.concat(list_data,ignore_index=False, sort=True)\n",
    "#cdf.head()\n",
    "cdf.to_csv('combined_world.csv')"
   ]
  },
  {
   "cell_type": "code",
   "execution_count": 20,
   "metadata": {},
   "outputs": [],
   "source": [
    "# Columns to use\n",
    "colsList = ['Active Cases', 'Total deaths']\n",
    "\n",
    "# Get dataframe for Countrys\n",
    "def getCountryCovidFr(CountryName):\n",
    "    CountryCovidFr = cdf[cdf['Country'] == CountryName]\n",
    "    CountryCovidFr.sort_values(by=['Date'], inplace=True, ascending=True)\n",
    "    return CountryCovidFr\n",
    "\n",
    "def convertDateToReadableFormat(dateList):\n",
    "    dtObjectList = []\n",
    "    for dateInt in dateList:\n",
    "        dateStr = str(dateInt)\n",
    "        print(dateStr)\n",
    "        x = datetime(int(dateStr[:4]), int(dateStr[5:7]), int(dateStr[8:]))\n",
    "        dtObjectList.append(x)\n",
    "    dateTimeList = [dtObject.strftime('%y-%m-%d') for dtObject in dtObjectList]\n",
    "    return dateTimeList, dtObjectList\n",
    "\n",
    "# Function for plotting  state data\n",
    "def plotCountryData(CountryName, logScale=False, tablesToUse='all'):\n",
    "    '''\n",
    "    tablestoUse is either 'all' or a list of table names from colsList\n",
    "    '''\n",
    "    CountryCovidFr = getCountryCovidFr(CountryName)\n",
    "    dateList = CountryCovidFr['Date'].tolist()\n",
    "    readableDateList, _ = convertDateToReadableFormat(dateList)\n",
    "    # Data is latest to oldest\n",
    "    #readableDateList.reverse()\n",
    "    \n",
    "    CountryCovidDataDict = {}\n",
    "    for col in colsList:\n",
    "        dataList = CountryCovidFr[col].tolist()\n",
    "        #dataList.reverse()\n",
    "        CountryCovidDataDict[col] = dataList\n",
    "    \n",
    "    fig = plt.figure(figsize=(8,8))\n",
    "    ax = fig.add_subplot(111)\n",
    "    if tablesToUse == 'all':\n",
    "        for col in colsList:\n",
    "            ax.plot(readableDateList, CountryCovidDataDict[col], marker='o', label=col);\n",
    "    else:\n",
    "        for tableToUse in tablesToUse:\n",
    "            ax.plot(readableDateList, CountryCovidDataDict[tableToUse], marker='o', label=tableToUse);\n",
    "\n",
    "    plt.xticks(rotation=45, ha=\"right\");\n",
    "    \n",
    "    if logScale:\n",
    "        plt.yscale('log')\n",
    "\n",
    "    every_nth = 3\n",
    "    for n, label in enumerate(ax.xaxis.get_ticklabels()):\n",
    "        if n % every_nth != 0:\n",
    "            label.set_visible(False)\n",
    "    ax.legend(loc='upper left');\n",
    "    plt.xlabel('Date', fontsize=18);\n",
    "    plt.ylabel('Number of cases', fontsize=18);\n",
    "    plt.grid(axis='y')"
   ]
  },
  {
   "cell_type": "code",
   "execution_count": 22,
   "metadata": {},
   "outputs": [
    {
     "name": "stdout",
     "output_type": "stream",
     "text": [
      "2020-04-06\n",
      "2020-04-06\n",
      "2020-04-07\n",
      "2020-04-07\n",
      "2020-04-08\n",
      "2020-04-08\n",
      "2020-04-09\n",
      "2020-04-09\n"
     ]
    },
    {
     "name": "stderr",
     "output_type": "stream",
     "text": [
      "/home/soumik/anaconda3/lib/python3.7/site-packages/ipykernel_launcher.py:7: SettingWithCopyWarning: \n",
      "A value is trying to be set on a copy of a slice from a DataFrame\n",
      "\n",
      "See the caveats in the documentation: http://pandas.pydata.org/pandas-docs/stable/user_guide/indexing.html#returning-a-view-versus-a-copy\n",
      "  import sys\n"
     ]
    },
    {
     "data": {
      "text/html": [
       "<div>\n",
       "<style scoped>\n",
       "    .dataframe tbody tr th:only-of-type {\n",
       "        vertical-align: middle;\n",
       "    }\n",
       "\n",
       "    .dataframe tbody tr th {\n",
       "        vertical-align: top;\n",
       "    }\n",
       "\n",
       "    .dataframe thead th {\n",
       "        text-align: right;\n",
       "    }\n",
       "</style>\n",
       "<table border=\"1\" class=\"dataframe\">\n",
       "  <thead>\n",
       "    <tr style=\"text-align: right;\">\n",
       "      <th></th>\n",
       "      <th>Active Cases</th>\n",
       "      <th>Country</th>\n",
       "      <th>Date</th>\n",
       "      <th>Deaths/1M pop</th>\n",
       "      <th>New Cases</th>\n",
       "      <th>New Deaths</th>\n",
       "      <th>Serious/Critical</th>\n",
       "      <th>Tests/1M pop</th>\n",
       "      <th>Tot. Cases/1M pop</th>\n",
       "      <th>Total Cases</th>\n",
       "      <th>Total Recovered</th>\n",
       "      <th>Total Tests</th>\n",
       "      <th>Total deaths</th>\n",
       "      <th>Unnamed: 0</th>\n",
       "      <th>Unnamed: 0.1</th>\n",
       "    </tr>\n",
       "  </thead>\n",
       "  <tbody>\n",
       "    <tr>\n",
       "      <td>26</td>\n",
       "      <td>3,852</td>\n",
       "      <td>India</td>\n",
       "      <td>2020-04-06</td>\n",
       "      <td>0.09</td>\n",
       "      <td>+9</td>\n",
       "      <td>NaN</td>\n",
       "      <td>NaN</td>\n",
       "      <td>101</td>\n",
       "      <td>3</td>\n",
       "      <td>4,298</td>\n",
       "      <td>328</td>\n",
       "      <td>139,954</td>\n",
       "      <td>118</td>\n",
       "      <td>26</td>\n",
       "      <td>26.0</td>\n",
       "    </tr>\n",
       "    <tr>\n",
       "      <td>239</td>\n",
       "      <td>3,843</td>\n",
       "      <td>India</td>\n",
       "      <td>2020-04-06</td>\n",
       "      <td>0.09</td>\n",
       "      <td>+701</td>\n",
       "      <td>+19</td>\n",
       "      <td>NaN</td>\n",
       "      <td>93</td>\n",
       "      <td>3</td>\n",
       "      <td>4,289</td>\n",
       "      <td>328</td>\n",
       "      <td>128,320</td>\n",
       "      <td>118</td>\n",
       "      <td>239</td>\n",
       "      <td>239.0</td>\n",
       "    </tr>\n",
       "    <tr>\n",
       "      <td>24</td>\n",
       "      <td>4,267</td>\n",
       "      <td>India</td>\n",
       "      <td>2020-04-07</td>\n",
       "      <td>0.1</td>\n",
       "      <td>+489</td>\n",
       "      <td>+18</td>\n",
       "      <td>NaN</td>\n",
       "      <td>102</td>\n",
       "      <td>3</td>\n",
       "      <td>4,778</td>\n",
       "      <td>375</td>\n",
       "      <td>140,293</td>\n",
       "      <td>136</td>\n",
       "      <td>24</td>\n",
       "      <td>24.0</td>\n",
       "    </tr>\n",
       "    <tr>\n",
       "      <td>240</td>\n",
       "      <td>3,843</td>\n",
       "      <td>India</td>\n",
       "      <td>2020-04-07</td>\n",
       "      <td>0.09</td>\n",
       "      <td>+701</td>\n",
       "      <td>+19</td>\n",
       "      <td>NaN</td>\n",
       "      <td>93</td>\n",
       "      <td>3</td>\n",
       "      <td>4,289</td>\n",
       "      <td>328</td>\n",
       "      <td>128,320</td>\n",
       "      <td>118</td>\n",
       "      <td>240</td>\n",
       "      <td>240.0</td>\n",
       "    </tr>\n",
       "    <tr>\n",
       "      <td>23</td>\n",
       "      <td>4,848</td>\n",
       "      <td>India</td>\n",
       "      <td>2020-04-08</td>\n",
       "      <td>0.1</td>\n",
       "      <td>+129</td>\n",
       "      <td>+4</td>\n",
       "      <td>NaN</td>\n",
       "      <td>102</td>\n",
       "      <td>4</td>\n",
       "      <td>5,480</td>\n",
       "      <td>468</td>\n",
       "      <td>140,293</td>\n",
       "      <td>164</td>\n",
       "      <td>23</td>\n",
       "      <td>23.0</td>\n",
       "    </tr>\n",
       "    <tr>\n",
       "      <td>237</td>\n",
       "      <td>4,723</td>\n",
       "      <td>India</td>\n",
       "      <td>2020-04-08</td>\n",
       "      <td>0.1</td>\n",
       "      <td>+573</td>\n",
       "      <td>+24</td>\n",
       "      <td>NaN</td>\n",
       "      <td>102</td>\n",
       "      <td>4</td>\n",
       "      <td>5,351</td>\n",
       "      <td>468</td>\n",
       "      <td>140,293</td>\n",
       "      <td>160</td>\n",
       "      <td>237</td>\n",
       "      <td>237.0</td>\n",
       "    </tr>\n",
       "    <tr>\n",
       "      <td>23</td>\n",
       "      <td>5,232</td>\n",
       "      <td>India</td>\n",
       "      <td>2020-04-09</td>\n",
       "      <td>0.1</td>\n",
       "      <td>NaN</td>\n",
       "      <td>NaN</td>\n",
       "      <td>NaN</td>\n",
       "      <td>121</td>\n",
       "      <td>4</td>\n",
       "      <td>5,916</td>\n",
       "      <td>506</td>\n",
       "      <td>167,235</td>\n",
       "      <td>178</td>\n",
       "      <td>23</td>\n",
       "      <td>NaN</td>\n",
       "    </tr>\n",
       "    <tr>\n",
       "      <td>237</td>\n",
       "      <td>5,232</td>\n",
       "      <td>India</td>\n",
       "      <td>2020-04-09</td>\n",
       "      <td>0.1</td>\n",
       "      <td>+565</td>\n",
       "      <td>+18</td>\n",
       "      <td>NaN</td>\n",
       "      <td>121</td>\n",
       "      <td>4</td>\n",
       "      <td>5,916</td>\n",
       "      <td>506</td>\n",
       "      <td>167,235</td>\n",
       "      <td>178</td>\n",
       "      <td>237</td>\n",
       "      <td>NaN</td>\n",
       "    </tr>\n",
       "  </tbody>\n",
       "</table>\n",
       "</div>"
      ],
      "text/plain": [
       "    Active Cases Country        Date Deaths/1M pop New Cases New Deaths  \\\n",
       "26         3,852   India  2020-04-06          0.09        +9        NaN   \n",
       "239        3,843   India  2020-04-06          0.09      +701        +19   \n",
       "24         4,267   India  2020-04-07           0.1      +489        +18   \n",
       "240        3,843   India  2020-04-07          0.09      +701        +19   \n",
       "23         4,848   India  2020-04-08           0.1      +129         +4   \n",
       "237        4,723   India  2020-04-08           0.1      +573        +24   \n",
       "23         5,232   India  2020-04-09           0.1       NaN        NaN   \n",
       "237        5,232   India  2020-04-09           0.1      +565        +18   \n",
       "\n",
       "    Serious/Critical Tests/1M pop Tot. Cases/1M pop Total Cases  \\\n",
       "26               NaN          101                 3       4,298   \n",
       "239              NaN           93                 3       4,289   \n",
       "24               NaN          102                 3       4,778   \n",
       "240              NaN           93                 3       4,289   \n",
       "23               NaN          102                 4       5,480   \n",
       "237              NaN          102                 4       5,351   \n",
       "23               NaN          121                 4       5,916   \n",
       "237              NaN          121                 4       5,916   \n",
       "\n",
       "    Total Recovered Total Tests Total deaths Unnamed: 0  Unnamed: 0.1  \n",
       "26              328     139,954         118          26          26.0  \n",
       "239             328     128,320         118         239         239.0  \n",
       "24              375     140,293         136          24          24.0  \n",
       "240             328     128,320         118         240         240.0  \n",
       "23              468     140,293         164          23          23.0  \n",
       "237             468     140,293         160         237         237.0  \n",
       "23              506     167,235         178          23           NaN  \n",
       "237             506     167,235         178         237           NaN  "
      ]
     },
     "execution_count": 22,
     "metadata": {},
     "output_type": "execute_result"
    },
    {
     "data": {
      "image/png": "[encoded data removed]",
      "text/plain": [
       "<Figure size 576x576 with 1 Axes>"
      ]
     },
     "metadata": {
      "needs_background": "light"
     },
     "output_type": "display_data"
    }
   ],
   "source": [
    "plotCountryData('India', tablesToUse=['Active Cases', 'Total deaths'])\n",
    "getCountryCovidFr('India')"
   ]
  },
  {
   "cell_type": "code",
   "execution_count": null,
   "metadata": {},
   "outputs": [],
   "source": []
  },
  {
   "cell_type": "code",
   "execution_count": null,
   "metadata": {},
   "outputs": [],
   "source": []
  },
  {
   "cell_type": "code",
   "execution_count": null,
   "metadata": {},
   "outputs": [],
   "source": []
  },
  {
   "cell_type": "code",
   "execution_count": null,
   "metadata": {},
   "outputs": [],
   "source": []
  },
  {
   "cell_type": "code",
   "execution_count": null,
   "metadata": {},
   "outputs": [],
   "source": []
  },
  {
   "cell_type": "code",
   "execution_count": null,
   "metadata": {},
   "outputs": [],
   "source": []
  },
  {
   "cell_type": "markdown",
   "metadata": {},
   "source": [
    "# comparing/training it with available data"
   ]
  },
  {
   "cell_type": "code",
   "execution_count": null,
   "metadata": {},
   "outputs": [],
   "source": []
  },
  {
   "cell_type": "code",
   "execution_count": null,
   "metadata": {},
   "outputs": [],
   "source": []
  },
  {
   "cell_type": "markdown",
   "metadata": {},
   "source": [
    "# prediction"
   ]
  },
  {
   "cell_type": "code",
   "execution_count": null,
   "metadata": {},
   "outputs": [],
   "source": []
  },
  {
   "cell_type": "code",
   "execution_count": null,
   "metadata": {},
   "outputs": [],
   "source": []
  },
  {
   "cell_type": "markdown",
   "metadata": {},
   "source": [
    "# Is the pandemic following same mathematical distribution globally ? If not, is it same in continents ?"
   ]
  },
  {
   "cell_type": "code",
   "execution_count": null,
   "metadata": {},
   "outputs": [],
   "source": []
  },
  {
   "cell_type": "markdown",
   "metadata": {},
   "source": [
    "# Is the pattern same for worst hit countries ?"
   ]
  },
  {
   "cell_type": "code",
   "execution_count": null,
   "metadata": {},
   "outputs": [],
   "source": []
  },
  {
   "cell_type": "markdown",
   "metadata": {},
   "source": [
    "# Inferences (as you are doing) from the above country specific curves with recommendations obtained from their analysis. "
   ]
  },
  {
   "cell_type": "code",
   "execution_count": null,
   "metadata": {},
   "outputs": [],
   "source": []
  },
  {
   "cell_type": "markdown",
   "metadata": {},
   "source": [
    "# Can a weighing factor be assigned to each of  the three additional parameters (or overall five parameters) which you are considering. "
   ]
  },
  {
   "cell_type": "code",
   "execution_count": null,
   "metadata": {},
   "outputs": [],
   "source": []
  },
  {
   "cell_type": "markdown",
   "metadata": {},
   "source": [
    "# Which factor is most essential to flatten the curve?"
   ]
  },
  {
   "cell_type": "code",
   "execution_count": null,
   "metadata": {},
   "outputs": [],
   "source": []
  },
  {
   "cell_type": "markdown",
   "metadata": {},
   "source": [
    "# For India, how is the outbreak pattern in different states. Is it inline with the entire country or zone-specific ?"
   ]
  },
  {
   "cell_type": "code",
   "execution_count": null,
   "metadata": {},
   "outputs": [],
   "source": []
  }
 ],
 "metadata": {
  "kernelspec": {
   "display_name": "Python 3",
   "language": "python",
   "name": "python3"
  },
  "language_info": {
   "codemirror_mode": {
    "name": "ipython",
    "version": 3
   },
   "file_extension": ".py",
   "mimetype": "text/x-python",
   "name": "python",
   "nbconvert_exporter": "python",
   "pygments_lexer": "ipython3",
   "version": "3.7.4"
  }
 },
 "nbformat": 4,
 "nbformat_minor": 2
}
